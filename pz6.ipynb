{
 "cells": [
  {
   "cell_type": "markdown",
   "id": "e32f2a10",
   "metadata": {},
   "source": [
    "Рекурсивное решение\n",
    "\n"
   ]
  },
  {
   "cell_type": "code",
   "execution_count": 1,
   "id": "9c7b9025",
   "metadata": {},
   "outputs": [
    {
     "name": "stdout",
     "output_type": "stream",
     "text": [
      "14930352\n"
     ]
    }
   ],
   "source": [
    "# неэффективное решение\n",
    "def F(n):\n",
    "    if n < 2:\n",
    "        return 1\n",
    "    else:\n",
    "        return F(n - 1) + F(n - 2)\n",
    "print(F(35))"
   ]
  },
  {
   "cell_type": "markdown",
   "id": "f958437f",
   "metadata": {},
   "source": [
    "Нерекурсивное решение"
   ]
  },
  {
   "cell_type": "code",
   "execution_count": 8,
   "id": "253d4faa",
   "metadata": {},
   "outputs": [
    {
     "name": "stdout",
     "output_type": "stream",
     "text": [
      "[1, 1, 2, 3, 5, 8, 13, 21, 34, 55, 89, 144, 233, 377, 610, 987, 1597, 2584, 4181, 6765, 10946, 17711, 28657, 46368, 75025, 121393, 196418, 317811, 514229, 832040, 1346269, 2178309, 3524578, 5702887, 9227465, 14930352, 24157817, 39088169, 63245986, 102334155, 165580141]\n"
     ]
    }
   ],
   "source": [
    "n=40\n",
    "F=[0]*(n + 1)\n",
    "F[0]=1\n",
    "F[1]=1\n",
    "for i in range(2, n + 1):\n",
    "    F[i] = F[i - 2] + F[i - 1]\n",
    "print(F)"
   ]
  },
  {
   "cell_type": "markdown",
   "id": "bad731fb",
   "metadata": {},
   "source": [
    "Модификации задачи о кузнечике"
   ]
  },
  {
   "cell_type": "code",
   "execution_count": 9,
   "id": "019d7ae6",
   "metadata": {},
   "outputs": [
    {
     "name": "stdout",
     "output_type": "stream",
     "text": [
      "[1, 1, 2, 4, 7, 13, 24, 44, 81, 149, 274, 504, 927, 1705, 3136, 5768, 10609, 19513, 35890, 66012, 121415, 223317, 410744, 755476, 1389537, 2555757, 4700770, 8646064, 15902591, 29249425, 53798080, 98950096, 181997601, 334745777, 615693474, 1132436852, 2082876103, 3831006429, 7046319384, 12960201916, 23837527729]\n"
     ]
    }
   ],
   "source": [
    "F = [0] * (n + 1)\n",
    "F[0] = 1\n",
    "F[1] = F[0]\n",
    "F[2] = F[1] + F[0]\n",
    "for i in range(3, n + 1):\n",
    "    F[i] = F[i - 3] + F[i - 2] + F[i - 1]\n",
    "print(F)"
   ]
  },
  {
   "cell_type": "code",
   "execution_count": 10,
   "id": "a1f1d34b",
   "metadata": {},
   "outputs": [
    {
     "name": "stdout",
     "output_type": "stream",
     "text": [
      "[1, 1, 2, 4, 7, 13, 24, 44, 81, 149, 274]\n"
     ]
    }
   ],
   "source": [
    "n=10\n",
    "Map=[0,1,2,3,4,5,6,7,7,8,9]\n",
    "F = [0] * (n + 1)\n",
    "F[0] = 1\n",
    "for i in range(1, n + 1):\n",
    "    if Map[i] == 0:\n",
    "        F[i] = 0\n",
    "    else:\n",
    "        F[i] = sum(F[max(0,i-3):i])\n",
    "print(F)"
   ]
  },
  {
   "cell_type": "code",
   "execution_count": 11,
   "id": "5313de4c",
   "metadata": {},
   "outputs": [
    {
     "name": "stdout",
     "output_type": "stream",
     "text": [
      "[0, 5, 3, 11, 9, 10, 18, 14, 16, 21, 21]\n"
     ]
    }
   ],
   "source": [
    "n = 10\n",
    "Prices = [0, 5, 3, 8, 6, 1, 9, 4, 2, 7, 5] \n",
    "\n",
    "C = [0] * (n + 1)\n",
    "C[1] = Prices[1]\n",
    "for i in range(2, n + 1):\n",
    "    C[i] = min(C[i - 1], C[i - 2]) + Prices[i]\n",
    "print(C)\n",
    "\n"
   ]
  },
  {
   "cell_type": "code",
   "execution_count": 12,
   "id": "41005a24",
   "metadata": {},
   "outputs": [
    {
     "name": "stdout",
     "output_type": "stream",
     "text": [
      "[0, 5, 3, 11, 9, 10, 18, 14, 16, 21, 50]\n"
     ]
    }
   ],
   "source": [
    "n = 10\n",
    "Prev= [0, 5, 3, 8, 6, 11, 9, 4, 8, 7, 9]\n",
    "Price= [0, 5, 3, 8, 6, 1, 9, 4, 2, 7, 34]\n",
    "C = [0] * (n + 1)\n",
    "C[1] = Price[1]\n",
    "Prev[1] = 0\n",
    "for i in range(2, n + 1):\n",
    "    if C[i - 1] < C[i - 2]:\n",
    "        C[i] = C[i - 1] + Price[i]\n",
    "        Prev[i] = i - 1\n",
    "    else:\n",
    "        C[i] = C[i - 2] + Price[i]\n",
    "        Prev[i] = i - 2\n",
    "print(C)"
   ]
  },
  {
   "cell_type": "code",
   "execution_count": 13,
   "id": "70197db4",
   "metadata": {},
   "outputs": [
    {
     "name": "stdout",
     "output_type": "stream",
     "text": [
      "[0, 2, 4, 5, 7, 8, 10]\n"
     ]
    }
   ],
   "source": [
    "Path = []\n",
    "i = n\n",
    "while i > 0:\n",
    "    Path.append(i)\n",
    "    i = Prev[i]\n",
    "Path.append(0)\n",
    "Path = Path[::-1]\n",
    "print(Path)"
   ]
  },
  {
   "cell_type": "code",
   "execution_count": 14,
   "id": "5bb87d7a",
   "metadata": {},
   "outputs": [
    {
     "name": "stdout",
     "output_type": "stream",
     "text": [
      "[0, 0, 2, 4, 5, 7, 8]\n"
     ]
    }
   ],
   "source": [
    "Path = []\n",
    "i = n\n",
    "while i > 0:\n",
    "    if C[i - 1] < C[i - 2]:\n",
    "        prev = i - 1\n",
    "    else:\n",
    "        prev = i - 2\n",
    "    Path.append(prev)\n",
    "    i = prev\n",
    "Path.append(0)\n",
    "Path = Path[::-1]\n",
    "print(Path)"
   ]
  },
  {
   "cell_type": "markdown",
   "id": "89448737",
   "metadata": {},
   "source": [
    "7.Решите задачу о количестве способов достичь точки n из точки 1, если кузнечик умеет прыгать +1, +2 и *2."
   ]
  },
  {
   "cell_type": "code",
   "execution_count": 15,
   "id": "b5118c08",
   "metadata": {},
   "outputs": [
    {
     "name": "stdout",
     "output_type": "stream",
     "text": [
      "Введите значение N: 40\n",
      "Кол-во способов достичь 40 из точки 1: 307071818\n"
     ]
    }
   ],
   "source": [
    "def func(N):\n",
    "    if N<=1:\n",
    "        return 1\n",
    "    d=[0]*(N+1)\n",
    "    d[1]=1\n",
    "    for i in range(2,N+1):\n",
    "        d[i]+=d[i-1]\n",
    "        d[i]+=d[i-2]\n",
    "        if i%2==0:\n",
    "            d[i]+=d[i//2]\n",
    "    return d[N]\n",
    "N = int(input(('Введите значение N: ')))\n",
    "result = func(N)\n",
    "print(f'Кол-во способов достичь {N} из точки 1: {result}')"
   ]
  },
  {
   "cell_type": "markdown",
   "id": "cbc2c81c",
   "metadata": {},
   "source": [
    "со стоимостью\n"
   ]
  },
  {
   "cell_type": "code",
   "execution_count": 16,
   "id": "40b7b65c",
   "metadata": {},
   "outputs": [
    {
     "name": "stdout",
     "output_type": "stream",
     "text": [
      "Введите значение n: 40\n",
      "Введите значение l: 8\n",
      "Минимальная сумма достигала 40: 632\n",
      "Цены за выбранные ступеньки: [8, 32, 72, 152, 312, 632]\n",
      "Индексы выбранных ступенёк: [1, 3, 5, 10, 20, 40]\n",
      "Полная цена за выбранные ступеньки: [8, 32, 72, 152, 312, 632]\n"
     ]
    },
    {
     "data": {
      "image/png": "[encoded data removed]",
      "text/plain": [
       "<Figure size 640x480 with 1 Axes>"
      ]
     },
     "metadata": {},
     "output_type": "display_data"
    }
   ],
   "source": [
    "import matplotlib.pyplot as plt\n",
    "\n",
    "\n",
    "def pr_method(n, l):\n",
    "    if n <= 0:\n",
    "        return 0\n",
    "\n",
    "    price = [0] * (n + 1)\n",
    "    for i in range(1, n + 1):\n",
    "        price[i] = price[i - 1] + l\n",
    "\n",
    "    dp = [0] * (n + 1)\n",
    "    dp[1] = price[1]\n",
    "    dp[2] = price[2] + dp[1]\n",
    "    dp[3] = min(dp[2], dp[1]) + price[3]\n",
    "\n",
    "    path = [[] for _ in range(n + 1)]\n",
    "    path[1] = [1]\n",
    "    path[2] = [1, 2]\n",
    "    path[3] = [1, 3]\n",
    "\n",
    "    for i in range(3, n + 1):\n",
    "        dp[i] = min(dp[i - 1], dp[i - 2]) + price[i]\n",
    "        if dp[i - 1] < dp[i - 2]:\n",
    "            path[i] = path[i - 1] + [i]\n",
    "        else:\n",
    "            path[i] = path[i - 2] + [i]\n",
    "        if i % 2 == 0:\n",
    "            if dp[i // 2] + price[i] < dp[i]:\n",
    "                dp[i] = dp[i // 2] + price[i]\n",
    "                path[i] = path[i // 2] + [i]\n",
    "\n",
    "    price_optimal_path = [price[i] for i in path[n]]\n",
    "    ind_optim_path = path[n]\n",
    "\n",
    "    return dp[n], price_optimal_path, ind_optim_path\n",
    "\n",
    "\n",
    "n = int(input('Введите значение n: '))\n",
    "l = int(input('Введите значение l: '))\n",
    "result, prices, indices = pr_method(n, l)\n",
    "\n",
    "full_price = [0] * len(prices)\n",
    "\n",
    "for i in range(len(full_price)):\n",
    "    full_price[i] = full_price[i - 1] + prices[i]\n",
    "\n",
    "print(f'Минимальная сумма достигала {n}: {result}')\n",
    "print('Цены за выбранные ступеньки:', full_price)\n",
    "print('Индексы выбранных ступенёк:', indices)\n",
    "print('Полная цена за выбранные ступеньки:', full_price)\n",
    "\n",
    "x = indices\n",
    "y = full_price\n",
    "\n",
    "\n",
    "plt.scatter(x, y, color='brown', marker='*', label='Выбранные ступеньки')\n",
    "plt.plot(x, y, color='burlywood')\n",
    "plt.xlabel('Индексы ступенек')\n",
    "plt.ylabel('Минимальная цена')\n",
    "plt.title('Оптимальные решение')\n",
    "plt.legend()\n",
    "plt.show()\n"
   ]
  },
  {
   "cell_type": "code",
   "execution_count": null,
   "id": "f5ff493f",
   "metadata": {},
   "outputs": [],
   "source": []
  },
  {
   "cell_type": "code",
   "execution_count": null,
   "id": "323d5166",
   "metadata": {},
   "outputs": [],
   "source": []
  }
 ],
 "metadata": {
  "kernelspec": {
   "display_name": "Python 3 (ipykernel)",
   "language": "python",
   "name": "python3"
  },
  "language_info": {
   "codemirror_mode": {
    "name": "ipython",
    "version": 3
   },
   "file_extension": ".py",
   "mimetype": "text/x-python",
   "name": "python",
   "nbconvert_exporter": "python",
   "pygments_lexer": "ipython3",
   "version": "3.11.5"
  }
 },
 "nbformat": 4,
 "nbformat_minor": 5
}
